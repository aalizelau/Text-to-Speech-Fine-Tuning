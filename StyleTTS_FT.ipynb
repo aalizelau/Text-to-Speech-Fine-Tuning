{
  "nbformat": 4,
  "nbformat_minor": 0,
  "metadata": {
    "colab": {
      "provenance": [],
      "mount_file_id": "1UHSI0Y2ryKR8pIG2y3jwofhNB4rEMEyB",
      "authorship_tag": "ABX9TyP106q6vQ++bfosdIYQ+7IA",
      "include_colab_link": true
    },
    "kernelspec": {
      "name": "python3",
      "display_name": "Python 3"
    },
    "language_info": {
      "name": "python"
    }
  },
  "cells": [
    {
      "cell_type": "markdown",
      "metadata": {
        "id": "view-in-github",
        "colab_type": "text"
      },
      "source": [
        "<a href=\"https://colab.research.google.com/github/aalizelau/Text-to-Speech-Fine-Tuning/blob/main/StyleTTS_FT.ipynb\" target=\"_parent\"><img src=\"https://colab.research.google.com/assets/colab-badge.svg\" alt=\"Open In Colab\"/></a>"
      ]
    },
    {
      "cell_type": "markdown",
      "source": [
        "#1. Prepare Dataset"
      ],
      "metadata": {
        "id": "KxrSxb8iB41W"
      }
    },
    {
      "cell_type": "markdown",
      "source": [
        "###Install packages"
      ],
      "metadata": {
        "id": "gHf7bzKjQqJh"
      }
    },
    {
      "cell_type": "code",
      "source": [
        "!pip uninstall torch torchvision torchaudio -y"
      ],
      "metadata": {
        "id": "33zqZ0m29odQ"
      },
      "execution_count": null,
      "outputs": []
    },
    {
      "cell_type": "code",
      "source": [
        "!pip install torch==2.3.1 torchaudio==2.3.1 --index-url https://download.pytorch.org/whl/cu118"
      ],
      "metadata": {
        "id": "58--G4wqZyR6"
      },
      "execution_count": null,
      "outputs": []
    },
    {
      "cell_type": "code",
      "source": [
        "!pip install git+https://github.com/m-bain/whisperx.git\n",
        "!pip install phonemizer pydub pysrt tqdm"
      ],
      "metadata": {
        "collapsed": true,
        "id": "3Nt5sgjSadw-"
      },
      "execution_count": null,
      "outputs": []
    },
    {
      "cell_type": "markdown",
      "source": [
        "### Download Tool Sets"
      ],
      "metadata": {
        "id": "01Nvnd_LR1Kp"
      }
    },
    {
      "cell_type": "code",
      "source": [
        "!git clone https://github.com/aalizelau/Text-to-Speech-Fine-Tuning.git"
      ],
      "metadata": {
        "id": "g9_UtTtARKIc"
      },
      "execution_count": null,
      "outputs": []
    },
    {
      "cell_type": "code",
      "source": [
        "!cd /content/Text-to-Speech-Fine-Tuning/prepare_dataset"
      ],
      "metadata": {
        "id": "wqt3aWc8cmMR"
      },
      "execution_count": null,
      "outputs": []
    },
    {
      "cell_type": "markdown",
      "source": [
        "### Processing Audio Files"
      ],
      "metadata": {
        "id": "AIXHf2w0S_2U"
      }
    },
    {
      "cell_type": "markdown",
      "source": [
        "Before you start, upload your WAV audio file/s to the audio directory!"
      ],
      "metadata": {
        "id": "Tkkk_0zMU_OS"
      }
    },
    {
      "cell_type": "code",
      "source": [
        "# create SRT file from audio directory\n",
        "import glob\n",
        "wav_files = glob.glob(\"audio/*.wav\")\n",
        "\n",
        "for file in wav_files:\n",
        "    !whisperx \"{file}\" --model large-v3 --output_format srt \\\n",
        "    --condition_on_previous_text True --max_line_width 250 \\\n",
        "    --max_line_count 1 --segment_resolution sentence \\\n",
        "    --align_mode WAV2VEC2_ASR_LARGE_LV60K_960H"
      ],
      "metadata": {
        "collapsed": true,
        "id": "XrG5gvtmcccO"
      },
      "execution_count": null,
      "outputs": []
    },
    {
      "cell_type": "code",
      "source": [
        "# create segmented audios\n",
        "!python srtsegmenter.py"
      ],
      "metadata": {
        "id": "SwMl9PGHlHNz"
      },
      "execution_count": null,
      "outputs": []
    },
    {
      "cell_type": "code",
      "source": [
        "# add a duration of silence to the end of each audio clip\n",
        "!python add_padding.py"
      ],
      "metadata": {
        "collapsed": true,
        "id": "Wx1rubcppZy1"
      },
      "execution_count": null,
      "outputs": []
    },
    {
      "cell_type": "code",
      "source": [
        "!apt-get update && apt-get install espeak"
      ],
      "metadata": {
        "collapsed": true,
        "id": "WBs-zH_c9qEc"
      },
      "execution_count": null,
      "outputs": []
    },
    {
      "cell_type": "code",
      "source": [
        "#create the train_list.txt and val_list.txt files\n",
        "!python phonemized.py --language en-us"
      ],
      "metadata": {
        "collapsed": true,
        "id": "aNpYa7yQ83Yz"
      },
      "execution_count": null,
      "outputs": []
    },
    {
      "cell_type": "markdown",
      "source": [
        "# 2. Fine-tuning with StyleTTS2"
      ],
      "metadata": {
        "id": "8NK-C7j4SVlL"
      }
    },
    {
      "cell_type": "markdown",
      "source": [
        "###Install packages and download models"
      ],
      "metadata": {
        "id": "OTYDHT2kWTkv"
      }
    },
    {
      "cell_type": "code",
      "source": [
        "%%shell\n",
        "git clone https://github.com/yl4579/StyleTTS2.git\n",
        "cd StyleTTS2\n",
        "pip install SoundFile munch pydub pyyaml librosa nltk matplotlib accelerate transformers phonemizer einops einops-exts tqdm typing-extensions git+https://github.com/resemble-ai/monotonic_align.git\n",
        "git-lfs clone https://huggingface.co/yl4579/StyleTTS2-LibriTTS\n",
        "mv StyleTTS2-LibriTTS/Models ."
      ],
      "metadata": {
        "id": "r-f2heuc-Efo"
      },
      "execution_count": null,
      "outputs": []
    },
    {
      "cell_type": "code",
      "source": [
        "!pip uninstall torchvision -y"
      ],
      "metadata": {
        "id": "59l-Pq-hGBid"
      },
      "execution_count": null,
      "outputs": []
    },
    {
      "cell_type": "code",
      "source": [
        "# make sure it is compatible with torch version\n",
        "!pip install torchvision==0.18.1 --index-url https://download.pytorch.org/whl/cu118"
      ],
      "metadata": {
        "collapsed": true,
        "id": "e7IVBHenGFCc"
      },
      "execution_count": null,
      "outputs": []
    },
    {
      "cell_type": "markdown",
      "source": [
        "###Change the finetuning config"
      ],
      "metadata": {
        "id": "4CM4d9wkXWwh"
      }
    },
    {
      "cell_type": "code",
      "source": [
        "#depends on your GPU resources\n",
        "config_path = \"Configs/config_ft.yml\"\n",
        "\n",
        "import yaml\n",
        "config = yaml.safe_load(open(config_path))\n",
        "\n",
        "\n",
        "config['data_params']['root_path'] = \"Data/wavs\"\n",
        "\n",
        "config['batch_size'] = 2 # not enough RAM\n",
        "config['max_len'] = 100 # not enough RAM\n",
        "config['loss_params']['joint_epoch'] = 110\n",
        "\n",
        "with open(config_path, 'w') as outfile:\n",
        "  yaml.dump(config, outfile, default_flow_style=True)"
      ],
      "metadata": {
        "id": "U9qYUxItXQnH"
      },
      "execution_count": null,
      "outputs": []
    },
    {
      "cell_type": "markdown",
      "source": [
        "###Start finetuning"
      ],
      "metadata": {
        "id": "16DS4pLVXmh0"
      }
    },
    {
      "cell_type": "code",
      "source": [
        "!python train_finetune.py --config_path ./Configs/config_ft.yml"
      ],
      "metadata": {
        "id": "B0XHmJmJEYjV"
      },
      "execution_count": null,
      "outputs": []
    },
    {
      "cell_type": "markdown",
      "source": [
        "#3. Inference"
      ],
      "metadata": {
        "id": "Q1WctcznYKIN"
      }
    },
    {
      "cell_type": "code",
      "source": [
        "text = '''Maltby and Company would issue warrants on them deliverable to the importer, and the goods were then passed to be stored in neighboring warehouses.\n",
        "'''"
      ],
      "metadata": {
        "id": "dAlt8ILuj_0F"
      },
      "execution_count": null,
      "outputs": []
    },
    {
      "cell_type": "code",
      "source": [
        "# upload a reference audio\n",
        "path = \"Data/wavs/YOUR_REFERENCE_AUDIO.wav\"\n",
        "# this style vector ref_s can be saved as a parameter together with the model weights\n",
        "ref_s = compute_style(path)"
      ],
      "metadata": {
        "id": "b4w9T5Zgcp0Q"
      },
      "execution_count": null,
      "outputs": []
    },
    {
      "cell_type": "code",
      "source": [
        "import time\n",
        "from inference import inference\n",
        "\n",
        "start = time.time()\n",
        "wav = inference(text, ref_s, alpha=0.9, beta=0.9, diffusion_steps=10, embedding_scale=1)\n",
        "rtf = (time.time() - start) / (len(wav) / 24000)\n",
        "print(f\"RTF = {rtf:5f}\")\n",
        "import IPython.display as ipd\n",
        "display(ipd.Audio(wav, rate=24000, normalize=False))"
      ],
      "metadata": {
        "id": "YyWRHhxadAdA"
      },
      "execution_count": null,
      "outputs": []
    }
  ]
}